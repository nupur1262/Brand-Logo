{
  "nbformat": 4,
  "nbformat_minor": 0,
  "metadata": {
    "colab": {
      "name": "LOGO_COLAB_3.ipynb",
      "provenance": [],
      "toc_visible": true,
      "authorship_tag": "ABX9TyO+IzqvXajfFKnTghc3ZTnJ",
      "include_colab_link": true
    },
    "kernelspec": {
      "name": "python3",
      "display_name": "Python 3"
    }
  },
  "cells": [
    {
      "cell_type": "markdown",
      "metadata": {
        "id": "view-in-github",
        "colab_type": "text"
      },
      "source": [
        "<a href=\"https://colab.research.google.com/github/nupur1262/Geeksman_AISquad_Project1_NupurPahuja/blob/master/LOGO_COLAB_3_final.ipynb\" target=\"_parent\"><img src=\"https://colab.research.google.com/assets/colab-badge.svg\" alt=\"Open In Colab\"/></a>"
      ]
    },
    {
      "cell_type": "markdown",
      "metadata": {
        "id": "PzPS6-Ngs_fi"
      },
      "source": [
        "##**LINK OF GOOGLE-DRIVE:**\n",
        "https://drive.google.com/drive/folders/1l2YpfjizmFyWurttuk-b5H1ZefDZAAws?usp=sharing"
      ]
    },
    {
      "cell_type": "markdown",
      "metadata": {
        "id": "UT-Lr9fCCdSi"
      },
      "source": [
        "##**IMPORTING OUR TRAINED MODEL**\n",
        "As in the second Notebook , we have created the link for export.pkl file , we are going to use that link to get that file here , so that we have access to the the Model that we have trained previously"
      ]
    },
    {
      "cell_type": "code",
      "metadata": {
        "id": "in8K2SPX2aqW",
        "outputId": "abde3d21-3847-4b09-e6a1-acfa5cdbd8eb",
        "colab": {
          "base_uri": "https://localhost:8080/",
          "height": 463
        }
      },
      "source": [
        "!wget --load-cookies /tmp/cookies.txt \"https://docs.google.com/uc?export=download&confirm=$(wget --quiet --save-cookies /tmp/cookies.txt --keep-session-cookies --no-check-certificate 'https://docs.google.com/uc?export=download&id=19nQsDYzMXEdfPaUbcvONsvQIBpoSNALc' -O- | sed -rn 's/.*confirm=([0-9A-Za-z_]+).*/\\1\\n/p')&id=19nQsDYzMXEdfPaUbcvONsvQIBpoSNALc\" -O \"export.pkl\" && rm -rf /tmp/cookies.txt"
      ],
      "execution_count": 36,
      "outputs": [
        {
          "output_type": "stream",
          "text": [
            "--2020-10-21 19:24:25--  https://docs.google.com/uc?export=download&confirm=R5LL&id=19nQsDYzMXEdfPaUbcvONsvQIBpoSNALc\n",
            "Resolving docs.google.com (docs.google.com)... 209.85.200.138, 209.85.200.101, 209.85.200.100, ...\n",
            "Connecting to docs.google.com (docs.google.com)|209.85.200.138|:443... connected.\n",
            "HTTP request sent, awaiting response... 302 Moved Temporarily\n",
            "Location: https://doc-08-0s-docs.googleusercontent.com/docs/securesc/tc73k9j9f0uaei6bcaba8515harhmjam/qjktb5p8mat5jebrek60lisclk21app8/1603308225000/07085962028189936718/01520944157356414267Z/19nQsDYzMXEdfPaUbcvONsvQIBpoSNALc?e=download [following]\n",
            "--2020-10-21 19:24:25--  https://doc-08-0s-docs.googleusercontent.com/docs/securesc/tc73k9j9f0uaei6bcaba8515harhmjam/qjktb5p8mat5jebrek60lisclk21app8/1603308225000/07085962028189936718/01520944157356414267Z/19nQsDYzMXEdfPaUbcvONsvQIBpoSNALc?e=download\n",
            "Resolving doc-08-0s-docs.googleusercontent.com (doc-08-0s-docs.googleusercontent.com)... 108.177.112.132, 2607:f8b0:4001:c12::84\n",
            "Connecting to doc-08-0s-docs.googleusercontent.com (doc-08-0s-docs.googleusercontent.com)|108.177.112.132|:443... connected.\n",
            "HTTP request sent, awaiting response... 302 Found\n",
            "Location: https://docs.google.com/nonceSigner?nonce=l77gckksq552o&continue=https://doc-08-0s-docs.googleusercontent.com/docs/securesc/tc73k9j9f0uaei6bcaba8515harhmjam/qjktb5p8mat5jebrek60lisclk21app8/1603308225000/07085962028189936718/01520944157356414267Z/19nQsDYzMXEdfPaUbcvONsvQIBpoSNALc?e%3Ddownload&hash=sirj3u1jfek90qvker39rgfijd97dmvk [following]\n",
            "--2020-10-21 19:24:25--  https://docs.google.com/nonceSigner?nonce=l77gckksq552o&continue=https://doc-08-0s-docs.googleusercontent.com/docs/securesc/tc73k9j9f0uaei6bcaba8515harhmjam/qjktb5p8mat5jebrek60lisclk21app8/1603308225000/07085962028189936718/01520944157356414267Z/19nQsDYzMXEdfPaUbcvONsvQIBpoSNALc?e%3Ddownload&hash=sirj3u1jfek90qvker39rgfijd97dmvk\n",
            "Connecting to docs.google.com (docs.google.com)|209.85.200.138|:443... connected.\n",
            "HTTP request sent, awaiting response... 302 Found\n",
            "Location: https://doc-08-0s-docs.googleusercontent.com/docs/securesc/tc73k9j9f0uaei6bcaba8515harhmjam/qjktb5p8mat5jebrek60lisclk21app8/1603308225000/07085962028189936718/01520944157356414267Z/19nQsDYzMXEdfPaUbcvONsvQIBpoSNALc?e=download&nonce=l77gckksq552o&user=01520944157356414267Z&hash=nbb77l2kfe2qbo17obhl5hu1eioc2580 [following]\n",
            "--2020-10-21 19:24:25--  https://doc-08-0s-docs.googleusercontent.com/docs/securesc/tc73k9j9f0uaei6bcaba8515harhmjam/qjktb5p8mat5jebrek60lisclk21app8/1603308225000/07085962028189936718/01520944157356414267Z/19nQsDYzMXEdfPaUbcvONsvQIBpoSNALc?e=download&nonce=l77gckksq552o&user=01520944157356414267Z&hash=nbb77l2kfe2qbo17obhl5hu1eioc2580\n",
            "Connecting to doc-08-0s-docs.googleusercontent.com (doc-08-0s-docs.googleusercontent.com)|108.177.112.132|:443... connected.\n",
            "HTTP request sent, awaiting response... 200 OK\n",
            "Length: unspecified [application/x-zip]\n",
            "Saving to: ‘export.pkl’\n",
            "\n",
            "export.pkl              [   <=>              ]  98.10M   165MB/s    in 0.6s    \n",
            "\n",
            "2020-10-21 19:24:26 (165 MB/s) - ‘export.pkl’ saved [102864949]\n",
            "\n"
          ],
          "name": "stdout"
        }
      ]
    },
    {
      "cell_type": "markdown",
      "metadata": {
        "id": "xxad80SlEgI7"
      },
      "source": [
        "**Importing Required Libraries**"
      ]
    },
    {
      "cell_type": "code",
      "metadata": {
        "id": "ZFS6r9vh2pvz"
      },
      "source": [
        "%reload_ext autoreload\n",
        "%autoreload 2\n",
        "%matplotlib inline\n",
        "from fastai.vision import *\n",
        "from fastai.metrics import error_rate\n",
        "import warnings\n",
        "warnings.filterwarnings(\"ignore\", category=FutureWarning)\n",
        "warnings.filterwarnings(\"ignore\", category=UserWarning)"
      ],
      "execution_count": 37,
      "outputs": []
    },
    {
      "cell_type": "code",
      "metadata": {
        "id": "itp6lSR22wbD"
      },
      "source": [
        "predictor = load_learner('/content/')"
      ],
      "execution_count": 38,
      "outputs": []
    },
    {
      "cell_type": "markdown",
      "metadata": {
        "id": "g_2Ok6gWDgkJ"
      },
      "source": [
        "#**MAKING PREDICTION FUNCTION**\n",
        "Making prediction function which accepts a test_image address as input and will return the corresponding predicted value for us."
      ]
    },
    {
      "cell_type": "code",
      "metadata": {
        "id": "g8Kvr_tJ2_lA"
      },
      "source": [
        "def my_predictor(im):\n",
        "  test_img =open_image(im)\n",
        "  pred_class,pred_idx,outputs=predictor.predict(test_img)\n",
        "  return pred_class"
      ],
      "execution_count": 39,
      "outputs": []
    },
    {
      "cell_type": "markdown",
      "metadata": {
        "id": "kYLFIkVtDzDs"
      },
      "source": [
        "**Uploading kaggle.json file**"
      ]
    },
    {
      "cell_type": "code",
      "metadata": {
        "id": "j-tZseFB2jjq",
        "outputId": "bb912621-e3ec-4f0d-c582-2b050ee39067",
        "colab": {
          "resources": {
            "http://localhost:8080/nbextensions/google.colab/files.js": {
              "data": "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",
              "ok": true,
              "headers": [
                [
                  "content-type",
                  "application/javascript"
                ]
              ],
              "status": 200,
              "status_text": ""
            }
          },
          "base_uri": "https://localhost:8080/",
          "height": 73
        }
      },
      "source": [
        "from google.colab import files\n",
        "my_file=files.upload()"
      ],
      "execution_count": 40,
      "outputs": [
        {
          "output_type": "display_data",
          "data": {
            "text/html": [
              "\n",
              "     <input type=\"file\" id=\"files-d0ac24c2-266d-44b9-8901-67d4509484c3\" name=\"files[]\" multiple disabled\n",
              "        style=\"border:none\" />\n",
              "     <output id=\"result-d0ac24c2-266d-44b9-8901-67d4509484c3\">\n",
              "      Upload widget is only available when the cell has been executed in the\n",
              "      current browser session. Please rerun this cell to enable.\n",
              "      </output>\n",
              "      <script src=\"/nbextensions/google.colab/files.js\"></script> "
            ],
            "text/plain": [
              "<IPython.core.display.HTML object>"
            ]
          },
          "metadata": {
            "tags": []
          }
        },
        {
          "output_type": "stream",
          "text": [
            "Saving kaggle.json to kaggle (3).json\n"
          ],
          "name": "stdout"
        }
      ]
    },
    {
      "cell_type": "markdown",
      "metadata": {
        "id": "AQzNifqED6Vq"
      },
      "source": [
        "**Setting environment variables , so that kaggle api can work properly**"
      ]
    },
    {
      "cell_type": "code",
      "metadata": {
        "id": "EYbeBc2W7y6n"
      },
      "source": [
        "import os\n",
        "import pandas as pd\n",
        "cred = pd.read_json(\"kaggle.json\",lines=True)\n",
        "os.environ['KAGGLE_USERNAME'] = cred.iloc[0][0]\n",
        "os.environ['KAGGLE_KEY'] = cred.iloc[0][1]"
      ],
      "execution_count": 41,
      "outputs": []
    },
    {
      "cell_type": "markdown",
      "metadata": {
        "id": "uxZVPjCMENiF"
      },
      "source": [
        "**Downloading the DataSet from Kaggle**"
      ]
    },
    {
      "cell_type": "code",
      "metadata": {
        "id": "Jxrw4wdJ73GD",
        "outputId": "8e41a5b9-b25e-44b0-ce03-f94dc271c68a",
        "colab": {
          "base_uri": "https://localhost:8080/",
          "height": 34
        }
      },
      "source": [
        "!kaggle datasets download -d nupurpahuja09/brand-logo-project"
      ],
      "execution_count": 42,
      "outputs": [
        {
          "output_type": "stream",
          "text": [
            "brand-logo-project.zip: Skipping, found more recently modified local copy (use --force to force download)\n"
          ],
          "name": "stdout"
        }
      ]
    },
    {
      "cell_type": "markdown",
      "metadata": {
        "id": "N_cbpvhfEuGi"
      },
      "source": [
        "**Unzipping downloaded data**"
      ]
    },
    {
      "cell_type": "code",
      "metadata": {
        "id": "hSDcfKId-7hy"
      },
      "source": [
        "!unzip \"*.zip\""
      ],
      "execution_count": null,
      "outputs": []
    },
    {
      "cell_type": "markdown",
      "metadata": {
        "id": "__L59vdhFDE-"
      },
      "source": [
        "**Predicting for a single image**"
      ]
    },
    {
      "cell_type": "code",
      "metadata": {
        "id": "Nhhtxp8l_B8-"
      },
      "source": [
        "all_test_images=os.listdir(\"/content/test_data\")"
      ],
      "execution_count": 43,
      "outputs": []
    },
    {
      "cell_type": "code",
      "metadata": {
        "id": "VT0nN9sg_V12",
        "outputId": "e25aa244-1c1c-4e85-fb88-b84b0313466a",
        "colab": {
          "base_uri": "https://localhost:8080/",
          "height": 145
        }
      },
      "source": [
        "idx=0\n",
        "print(my_predictor(\"/content/test_data/\"+all_test_images[idx]))\n",
        "img = open_image(\"/content/test_data/\"+all_test_images[idx])\n",
        "img.show()"
      ],
      "execution_count": 44,
      "outputs": [
        {
          "output_type": "stream",
          "text": [
            "micromax\n"
          ],
          "name": "stdout"
        },
        {
          "output_type": "display_data",
          "data": {
            "image/png": "[encoded data removed]",
            "text/plain": [
              "<Figure size 216x216 with 1 Axes>"
            ]
          },
          "metadata": {
            "tags": [],
            "needs_background": "light"
          }
        }
      ]
    },
    {
      "cell_type": "markdown",
      "metadata": {
        "id": "xCUWYf37FMnN"
      },
      "source": [
        "##**Making Video**"
      ]
    },
    {
      "cell_type": "code",
      "metadata": {
        "id": "qJqVuK9E_ZN0"
      },
      "source": [
        "import cv2\n",
        "test_files=os.listdir(\"/content/test_data\")\n",
        "os.makedirs(\"test_result\",exist_ok=True)\n",
        "i=0\n",
        "for test_file in test_files:\n",
        "  img=cv2.imread(\"/content/test_data/\"+test_file)\n",
        "  cv2.imwrite(\"temp.jpg\",img)\n",
        "  ans_text=my_predictor(\"temp.jpg\")\n",
        "  font = cv2.FONT_HERSHEY_SIMPLEX \n",
        "  i+=1\n",
        "  org = (0, 50) \n",
        "  fontScale = 2\n",
        "  color = (255, 0, 0) \n",
        "  thickness = 4\n",
        "  img = cv2.putText(img, str(ans_text), org, font,fontScale, color, thickness, cv2.LINE_AA) \n",
        "  cv2.imwrite(\"test_result/\"+str(i)+\".jpg\", img)"
      ],
      "execution_count": 45,
      "outputs": []
    },
    {
      "cell_type": "code",
      "metadata": {
        "id": "MSUpGyioABup",
        "outputId": "ca5da7ed-bd1b-4ba4-aade-58e11b543b95",
        "colab": {
          "base_uri": "https://localhost:8080/",
          "height": 1000
        }
      },
      "source": [
        "%cd \"test_result\"\n",
        "!ffmpeg -framerate 1 -pattern_type glob -i '*.jpg' -s 1920x1080  \\-c:v libx264 -r 1 -pix_fmt yuv420p ../my_final_output.mp4\n",
        "%cd .."
      ],
      "execution_count": 46,
      "outputs": [
        {
          "output_type": "stream",
          "text": [
            "/content/test_result\n",
            "ffmpeg version 3.4.8-0ubuntu0.2 Copyright (c) 2000-2020 the FFmpeg developers\n",
            "  built with gcc 7 (Ubuntu 7.5.0-3ubuntu1~18.04)\n",
            "  configuration: --prefix=/usr --extra-version=0ubuntu0.2 --toolchain=hardened --libdir=/usr/lib/x86_64-linux-gnu --incdir=/usr/include/x86_64-linux-gnu --enable-gpl --disable-stripping --enable-avresample --enable-avisynth --enable-gnutls --enable-ladspa --enable-libass --enable-libbluray --enable-libbs2b --enable-libcaca --enable-libcdio --enable-libflite --enable-libfontconfig --enable-libfreetype --enable-libfribidi --enable-libgme --enable-libgsm --enable-libmp3lame --enable-libmysofa --enable-libopenjpeg --enable-libopenmpt --enable-libopus --enable-libpulse --enable-librubberband --enable-librsvg --enable-libshine --enable-libsnappy --enable-libsoxr --enable-libspeex --enable-libssh --enable-libtheora --enable-libtwolame --enable-libvorbis --enable-libvpx --enable-libwavpack --enable-libwebp --enable-libx265 --enable-libxml2 --enable-libxvid --enable-libzmq --enable-libzvbi --enable-omx --enable-openal --enable-opengl --enable-sdl2 --enable-libdc1394 --enable-libdrm --enable-libiec61883 --enable-chromaprint --enable-frei0r --enable-libopencv --enable-libx264 --enable-shared\n",
            "  libavutil      55. 78.100 / 55. 78.100\n",
            "  libavcodec     57.107.100 / 57.107.100\n",
            "  libavformat    57. 83.100 / 57. 83.100\n",
            "  libavdevice    57. 10.100 / 57. 10.100\n",
            "  libavfilter     6.107.100 /  6.107.100\n",
            "  libavresample   3.  7.  0 /  3.  7.  0\n",
            "  libswscale      4.  8.100 /  4.  8.100\n",
            "  libswresample   2.  9.100 /  2.  9.100\n",
            "  libpostproc    54.  7.100 / 54.  7.100\n",
            "Input #0, image2, from '*.jpg':\n",
            "  Duration: 00:02:25.00, start: 0.000000, bitrate: N/A\n",
            "    Stream #0:0: Video: mjpeg, yuvj420p(pc, bt470bg/unknown/unknown), 295x171 [SAR 1:1 DAR 295:171], 1 fps, 1 tbr, 1 tbn, 1 tbc\n",
            "File '../my_final_output.mp4' already exists. Overwrite ? [y/N] y\n",
            "Stream mapping:\n",
            "  Stream #0:0 -> #0:0 (mjpeg (native) -> h264 (libx264))\n",
            "Press [q] to stop, [?] for help\n",
            "\u001b[1;34m[swscaler @ 0x563954754000] \u001b[0m\u001b[0;33mdeprecated pixel format used, make sure you did set range correctly\n",
            "\u001b[0m\u001b[1;36m[libx264 @ 0x563954686300] \u001b[0musing SAR=295/304\n",
            "\u001b[1;36m[libx264 @ 0x563954686300] \u001b[0musing cpu capabilities: MMX2 SSE2Fast SSSE3 SSE4.2 AVX FMA3 BMI2 AVX2\n",
            "\u001b[1;36m[libx264 @ 0x563954686300] \u001b[0mprofile High, level 4.0\n",
            "\u001b[1;36m[libx264 @ 0x563954686300] \u001b[0m264 - core 152 r2854 e9a5903 - H.264/MPEG-4 AVC codec - Copyleft 2003-2017 - http://www.videolan.org/x264.html - options: cabac=1 ref=3 deblock=1:0:0 analyse=0x3:0x113 me=hex subme=7 psy=1 psy_rd=1.00:0.00 mixed_ref=1 me_range=16 chroma_me=1 trellis=1 8x8dct=1 cqm=0 deadzone=21,11 fast_pskip=1 chroma_qp_offset=-2 threads=3 lookahead_threads=1 sliced_threads=0 nr=0 decimate=1 interlaced=0 bluray_compat=0 constrained_intra=0 bframes=3 b_pyramid=2 b_adapt=1 b_bias=0 direct=1 weightb=1 open_gop=0 weightp=2 keyint=250 keyint_min=1 scenecut=40 intra_refresh=0 rc_lookahead=40 rc=crf mbtree=1 crf=23.0 qcomp=0.60 qpmin=0 qpmax=69 qpstep=4 ip_ratio=1.40 aq=1:1.00\n",
            "Output #0, mp4, to '../my_final_output.mp4':\n",
            "  Metadata:\n",
            "    encoder         : Lavf57.83.100\n",
            "    Stream #0:0: Video: h264 (libx264) (avc1 / 0x31637661), yuv420p, 1920x1080 [SAR 295:304 DAR 295:171], q=-1--1, 1 fps, 16384 tbn, 1 tbc\n",
            "    Metadata:\n",
            "      encoder         : Lavc57.107.100 libx264\n",
            "    Side data:\n",
            "      cpb: bitrate max/min/avg: 0/0/0 buffer size: 0 vbv_delay: -1\n",
            "\u001b[1;34m[swscaler @ 0x563954754000] \u001b[0m\u001b[0;33mdeprecated pixel format used, make sure you did set range correctly\n",
            "    Last message repeated 7 times\n",
            "\u001b[1;34m[swscaler @ 0x563958fe8000] \u001b[0m\u001b[0;33mdeprecated pixel format used, make sure you did set range correctly\n",
            "    Last message repeated 1 times\n",
            "\u001b[1;34m[swscaler @ 0x5639579e8000] \u001b[0m\u001b[0;33mdeprecated pixel format used, make sure you did set range correctly\n",
            "    Last message repeated 22 times\n",
            "\u001b[1;34m[swscaler @ 0x5639579e8000] \u001b[0m\u001b[0;33mdeprecated pixel format used, make sure you did set range correctly\n",
            "    Last message repeated 12 times\n",
            "\u001b[1;34m[swscaler @ 0x5639579e8000] \u001b[0m\u001b[0;33mdeprecated pixel format used, make sure you did set range correctly\n",
            "    Last message repeated 2 times\n",
            "\u001b[1;34m[swscaler @ 0x5639579e8000] \u001b[0m\u001b[0;33mdeprecated pixel format used, make sure you did set range correctly\n",
            "    Last message repeated 1 times\n",
            "\u001b[1;34m[swscaler @ 0x5639579e8000] \u001b[0m\u001b[0;33mdeprecated pixel format used, make sure you did set range correctly\n",
            "    Last message repeated 1 times\n",
            "\u001b[1;34m[swscaler @ 0x563959be0000] \u001b[0m\u001b[0;33mdeprecated pixel format used, make sure you did set range correctly\n",
            "    Last message repeated 1 times\n",
            "\u001b[1;34m[swscaler @ 0x563959be0000] \u001b[0m\u001b[0;33mdeprecated pixel format used, make sure you did set range correctly\n",
            "    Last message repeated 1 times\n",
            "\u001b[1;34m[swscaler @ 0x563959be0000] \u001b[0m\u001b[0;33mdeprecated pixel format used, make sure you did set range correctly\n",
            "    Last message repeated 2 times\n",
            "\u001b[1;34m[swscaler @ 0x563959be0000] \u001b[0m\u001b[0;33mdeprecated pixel format used, make sure you did set range correctly\n",
            "    Last message repeated 2 times\n",
            "\u001b[1;34m[swscaler @ 0x563959be0000] \u001b[0m\u001b[0;33mdeprecated pixel format used, make sure you did set range correctly\n",
            "    Last message repeated 1 times\n",
            "\u001b[1;34m[swscaler @ 0x563959be0000] \u001b[0m\u001b[0;33mdeprecated pixel format used, make sure you did set range correctly\n",
            "    Last message repeated 2 times\n",
            "\u001b[1;34m[swscaler @ 0x563959be0000] \u001b[0m\u001b[0;33mdeprecated pixel format used, make sure you did set range correctly\n",
            "    Last message repeated 2 times\n",
            "\u001b[1;34m[swscaler @ 0x563959be0000] \u001b[0m\u001b[0;33mdeprecated pixel format used, make sure you did set range correctly\n",
            "    Last message repeated 1 times\n",
            "\u001b[1;34m[swscaler @ 0x563959be0000] \u001b[0m\u001b[0;33mdeprecated pixel format used, make sure you did set range correctly\n",
            "\u001b[1;34m[swscaler @ 0x563959be0000] \u001b[0m\u001b[0;33mdeprecated pixel format used, make sure you did set range correctly\n",
            "    Last message repeated 1 times\n",
            "\u001b[1;34m[swscaler @ 0x563959be0000] \u001b[0m\u001b[0;33mdeprecated pixel format used, make sure you did set range correctly\n",
            "\u001b[1;34m[swscaler @ 0x563959be0000] \u001b[0m\u001b[0;33mdeprecated pixel format used, make sure you did set range correctly\n",
            "    Last message repeated 1 times\n",
            "\u001b[1;34m[swscaler @ 0x563959be0000] \u001b[0m\u001b[0;33mdeprecated pixel format used, make sure you did set range correctly\n",
            "    Last message repeated 1 times\n",
            "\u001b[1;34m[swscaler @ 0x563959be0000] \u001b[0m\u001b[0;33mdeprecated pixel format used, make sure you did set range correctly\n",
            "\u001b[1;34m[swscaler @ 0x563959be0000] \u001b[0m\u001b[0;33mdeprecated pixel format used, make sure you did set range correctly\n",
            "    Last message repeated 1 times\n",
            "\u001b[1;34m[swscaler @ 0x563958f98000] \u001b[0m\u001b[0;33mdeprecated pixel format used, make sure you did set range correctly\n",
            "\u001b[1;34m[swscaler @ 0x563958f98000] \u001b[0m\u001b[0;33mdeprecated pixel format used, make sure you did set range correctly\n",
            "    Last message repeated 1 times\n",
            "\u001b[1;34m[swscaler @ 0x563958f98000] \u001b[0m\u001b[0;33mdeprecated pixel format used, make sure you did set range correctly\n",
            "\u001b[1;34m[swscaler @ 0x563958f98000] \u001b[0m\u001b[0;33mdeprecated pixel format used, make sure you did set range correctly\n",
            "    Last message repeated 2 times\n",
            "\u001b[1;34m[swscaler @ 0x563958f98000] \u001b[0m\u001b[0;33mdeprecated pixel format used, make sure you did set range correctly\n",
            "    Last message repeated 2 times\n",
            "\u001b[1;34m[swscaler @ 0x563958f98000] \u001b[0m\u001b[0;33mdeprecated pixel format used, make sure you did set range correctly\n",
            "    Last message repeated 2 times\n",
            "\u001b[1;34m[swscaler @ 0x563958f98000] \u001b[0m\u001b[0;33mdeprecated pixel format used, make sure you did set range correctly\n",
            "\u001b[1;34m[swscaler @ 0x5639579e8000] \u001b[0m\u001b[0;33mdeprecated pixel format used, make sure you did set range correctly\n",
            "    Last message repeated 1 times\n",
            "\u001b[1;34m[swscaler @ 0x5639579e8000] \u001b[0m\u001b[0;33mdeprecated pixel format used, make sure you did set range correctly\n",
            "    Last message repeated 2 times\n",
            "\u001b[1;34m[swscaler @ 0x5639579e8000] \u001b[0m\u001b[0;33mdeprecated pixel format used, make sure you did set range correctly\n",
            "    Last message repeated 1 times\n",
            "\u001b[1;34m[swscaler @ 0x5639579e8000] \u001b[0m\u001b[0;33mdeprecated pixel format used, make sure you did set range correctly\n",
            "    Last message repeated 2 times\n",
            "\u001b[1;34m[swscaler @ 0x5639579e8000] \u001b[0m\u001b[0;33mdeprecated pixel format used, make sure you did set range correctly\n",
            "    Last message repeated 1 times\n",
            "\u001b[1;34m[swscaler @ 0x5639579e8000] \u001b[0m\u001b[0;33mdeprecated pixel format used, make sure you did set range correctly\n",
            "    Last message repeated 2 times\n",
            "\u001b[1;34m[swscaler @ 0x5639579e8000] \u001b[0m\u001b[0;33mdeprecated pixel format used, make sure you did set range correctly\n",
            "    Last message repeated 1 times\n",
            "\u001b[1;34m[swscaler @ 0x5639579e8000] \u001b[0m\u001b[0;33mdeprecated pixel format used, make sure you did set range correctly\n",
            "    Last message repeated 2 times\n",
            "\u001b[1;34m[swscaler @ 0x5639579e8000] \u001b[0m\u001b[0;33mdeprecated pixel format used, make sure you did set range correctly\n",
            "    Last message repeated 1 times\n",
            "\u001b[1;34m[swscaler @ 0x5639579e8000] \u001b[0m\u001b[0;33mdeprecated pixel format used, make sure you did set range correctly\n",
            "    Last message repeated 2 times\n",
            "\u001b[1;34m[swscaler @ 0x5639579e8000] \u001b[0m\u001b[0;33mdeprecated pixel format used, make sure you did set range correctly\n",
            "    Last message repeated 1 times\n",
            "\u001b[1;34m[swscaler @ 0x5639579e8000] \u001b[0m\u001b[0;33mdeprecated pixel format used, make sure you did set range correctly\n",
            "\u001b[1;34m[swscaler @ 0x5639579e8000] \u001b[0m\u001b[0;33mdeprecated pixel format used, make sure you did set range correctly\n",
            "    Last message repeated 2 times\n",
            "\u001b[1;34m[swscaler @ 0x5639579e8000] \u001b[0m\u001b[0;33mdeprecated pixel format used, make sure you did set range correctly\n",
            "    Last message repeated 1 times\n",
            "\u001b[1;34m[swscaler @ 0x5639579e8000] \u001b[0m\u001b[0;33mdeprecated pixel format used, make sure you did set range correctly\n",
            "    Last message repeated 2 times\n",
            "\u001b[1;34m[swscaler @ 0x5639579e8000] \u001b[0m\u001b[0;33mdeprecated pixel format used, make sure you did set range correctly\n",
            "    Last message repeated 2 times\n",
            "\u001b[1;34m[swscaler @ 0x5639579e8000] \u001b[0m\u001b[0;33mdeprecated pixel format used, make sure you did set range correctly\n",
            "    Last message repeated 2 times\n",
            "frame=  145 fps=3.6 q=-1.0 Lsize=   11119kB time=00:02:22.00 bitrate= 641.4kbits/s speed=3.49x    \n",
            "video:11117kB audio:0kB subtitle:0kB other streams:0kB global headers:0kB muxing overhead: 0.014038%\n",
            "\u001b[1;36m[libx264 @ 0x563954686300] \u001b[0mframe I:1     Avg QP:11.44  size: 79192\n",
            "\u001b[1;36m[libx264 @ 0x563954686300] \u001b[0mframe P:144   Avg QP:11.00  size: 78499\n",
            "\u001b[1;36m[libx264 @ 0x563954686300] \u001b[0mmb I  I16..4: 23.9% 62.6% 13.5%\n",
            "\u001b[1;36m[libx264 @ 0x563954686300] \u001b[0mmb P  I16..4: 30.3% 56.9%  8.0%  P16..4:  0.8%  0.3%  0.1%  0.0%  0.0%    skip: 3.6%\n",
            "\u001b[1;36m[libx264 @ 0x563954686300] \u001b[0m8x8 transform intra:59.7% inter:90.2%\n",
            "\u001b[1;36m[libx264 @ 0x563954686300] \u001b[0mcoded y,uvDC,uvAC intra: 43.9% 46.5% 40.6% inter: 15.3% 17.3% 14.7%\n",
            "\u001b[1;36m[libx264 @ 0x563954686300] \u001b[0mi16 v,h,dc,p: 74% 20%  2%  4%\n",
            "\u001b[1;36m[libx264 @ 0x563954686300] \u001b[0mi8 v,h,dc,ddl,ddr,vr,hd,vl,hu: 34% 24% 14%  4%  5%  4%  5%  4%  5%\n",
            "\u001b[1;36m[libx264 @ 0x563954686300] \u001b[0mi4 v,h,dc,ddl,ddr,vr,hd,vl,hu: 36% 32%  8%  3%  7%  4%  5%  3%  2%\n",
            "\u001b[1;36m[libx264 @ 0x563954686300] \u001b[0mi8c dc,h,v,p: 57% 20% 15%  9%\n",
            "\u001b[1;36m[libx264 @ 0x563954686300] \u001b[0mWeighted P-Frames: Y:6.2% UV:4.9%\n",
            "\u001b[1;36m[libx264 @ 0x563954686300] \u001b[0mref P L0: 33.8% 15.1% 30.2% 20.3%  0.5%\n",
            "\u001b[1;36m[libx264 @ 0x563954686300] \u001b[0mkb/s:628.03\n",
            "/content\n"
          ],
          "name": "stdout"
        }
      ]
    },
    {
      "cell_type": "markdown",
      "metadata": {
        "id": "9V9e_kfyFc62"
      },
      "source": [
        "**Uploading the video on Kora-Drive**"
      ]
    },
    {
      "cell_type": "code",
      "metadata": {
        "id": "LPio6OCWBAos",
        "outputId": "08bd608e-ecdb-4b02-c3eb-e1067a9b2133",
        "colab": {
          "base_uri": "https://localhost:8080/",
          "height": 463
        }
      },
      "source": [
        "!pip install -U kora\n",
        "from kora.drive import upload_public"
      ],
      "execution_count": 21,
      "outputs": [
        {
          "output_type": "stream",
          "text": [
            "Collecting kora\n",
            "\u001b[?25l  Downloading https://files.pythonhosted.org/packages/74/1d/73dd69086808e06c52d20d57f494d2bb67b5eadacbaa09a65f8ca8f179e0/kora-0.8.5-py3-none-any.whl (45kB)\n",
            "\u001b[K     |████████████████████████████████| 51kB 1.8MB/s \n",
            "\u001b[?25hCollecting fastcore\n",
            "\u001b[?25l  Downloading https://files.pythonhosted.org/packages/4a/c3/c6a5ba98213022a3363747ae88ea716809448f58cce46547fb90454416e7/fastcore-1.2.2-py3-none-any.whl (43kB)\n",
            "\u001b[K     |████████████████████████████████| 51kB 4.4MB/s \n",
            "\u001b[?25hRequirement already satisfied, skipping upgrade: ipython in /usr/local/lib/python3.6/dist-packages (from kora) (5.5.0)\n",
            "Requirement already satisfied, skipping upgrade: pip in /usr/local/lib/python3.6/dist-packages (from fastcore->kora) (19.3.1)\n",
            "Requirement already satisfied, skipping upgrade: packaging in /usr/local/lib/python3.6/dist-packages (from fastcore->kora) (20.4)\n",
            "Requirement already satisfied, skipping upgrade: decorator in /usr/local/lib/python3.6/dist-packages (from ipython->kora) (4.4.2)\n",
            "Requirement already satisfied, skipping upgrade: pygments in /usr/local/lib/python3.6/dist-packages (from ipython->kora) (2.6.1)\n",
            "Requirement already satisfied, skipping upgrade: setuptools>=18.5 in /usr/local/lib/python3.6/dist-packages (from ipython->kora) (50.3.0)\n",
            "Requirement already satisfied, skipping upgrade: traitlets>=4.2 in /usr/local/lib/python3.6/dist-packages (from ipython->kora) (4.3.3)\n",
            "Requirement already satisfied, skipping upgrade: simplegeneric>0.8 in /usr/local/lib/python3.6/dist-packages (from ipython->kora) (0.8.1)\n",
            "Requirement already satisfied, skipping upgrade: prompt-toolkit<2.0.0,>=1.0.4 in /usr/local/lib/python3.6/dist-packages (from ipython->kora) (1.0.18)\n",
            "Requirement already satisfied, skipping upgrade: pickleshare in /usr/local/lib/python3.6/dist-packages (from ipython->kora) (0.7.5)\n",
            "Requirement already satisfied, skipping upgrade: pexpect; sys_platform != \"win32\" in /usr/local/lib/python3.6/dist-packages (from ipython->kora) (4.8.0)\n",
            "Requirement already satisfied, skipping upgrade: pyparsing>=2.0.2 in /usr/local/lib/python3.6/dist-packages (from packaging->fastcore->kora) (2.4.7)\n",
            "Requirement already satisfied, skipping upgrade: six in /usr/local/lib/python3.6/dist-packages (from packaging->fastcore->kora) (1.15.0)\n",
            "Requirement already satisfied, skipping upgrade: ipython-genutils in /usr/local/lib/python3.6/dist-packages (from traitlets>=4.2->ipython->kora) (0.2.0)\n",
            "Requirement already satisfied, skipping upgrade: wcwidth in /usr/local/lib/python3.6/dist-packages (from prompt-toolkit<2.0.0,>=1.0.4->ipython->kora) (0.2.5)\n",
            "Requirement already satisfied, skipping upgrade: ptyprocess>=0.5 in /usr/local/lib/python3.6/dist-packages (from pexpect; sys_platform != \"win32\"->ipython->kora) (0.6.0)\n",
            "Installing collected packages: fastcore, kora\n",
            "Successfully installed fastcore-1.2.2 kora-0.8.5\n"
          ],
          "name": "stdout"
        }
      ]
    },
    {
      "cell_type": "code",
      "metadata": {
        "id": "TXiTAUVEBi2p"
      },
      "source": [
        "url = upload_public('my_final_output.mp4')"
      ],
      "execution_count": 47,
      "outputs": []
    },
    {
      "cell_type": "code",
      "metadata": {
        "id": "TlbIh7x0Bm77",
        "outputId": "4b8d6a69-834b-419e-868b-125d43b00b69",
        "colab": {
          "base_uri": "https://localhost:8080/",
          "height": 35
        }
      },
      "source": [
        "url"
      ],
      "execution_count": 48,
      "outputs": [
        {
          "output_type": "execute_result",
          "data": {
            "application/vnd.google.colaboratory.intrinsic+json": {
              "type": "string"
            },
            "text/plain": [
              "'https://drive.google.com/uc?id=1RPyNJMf6Wf_EObLYmgzmZW0rivSu6LIV'"
            ]
          },
          "metadata": {
            "tags": []
          },
          "execution_count": 48
        }
      ]
    },
    {
      "cell_type": "markdown",
      "metadata": {
        "id": "KtZBGzY-FtjE"
      },
      "source": [
        "***Video can be seen here now***"
      ]
    },
    {
      "cell_type": "code",
      "metadata": {
        "id": "-LnFgzfpBy5q",
        "outputId": "4bedcb2d-cfc4-47a1-b93e-c809c378da6c",
        "colab": {
          "base_uri": "https://localhost:8080/",
          "height": 311
        }
      },
      "source": [
        "from IPython.display import HTML\n",
        "HTML(f\"\"\"<video src={url} width=500 controls/>\"\"\")"
      ],
      "execution_count": 49,
      "outputs": [
        {
          "output_type": "execute_result",
          "data": {
            "text/html": [
              "<video src=https://drive.google.com/uc?id=1RPyNJMf6Wf_EObLYmgzmZW0rivSu6LIV width=500 controls/>"
            ],
            "text/plain": [
              "<IPython.core.display.HTML object>"
            ]
          },
          "metadata": {
            "tags": []
          },
          "execution_count": 49
        }
      ]
    }
  ]
}